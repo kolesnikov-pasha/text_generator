{
 "cells": [
  {
   "cell_type": "code",
   "execution_count": 12,
   "metadata": {
    "collapsed": true
   },
   "outputs": [],
   "source": [
    "import random\n",
    "import io"
   ]
  },
  {
   "cell_type": "code",
   "execution_count": 13,
   "metadata": {},
   "outputs": [],
   "source": [
    "def replace_all_with(text, arr, s):\n",
    "        for symbol in arr:\n",
    "            text = text.replace(symbol, s)\n",
    "        return text\n",
    "\n",
    "\n",
    "class TextGenerator:\n",
    "    def __init__(self):\n",
    "        self.dictionary = {}\n",
    "        self.words = []\n",
    "        self.words_count = {}\n",
    "        self.tri_dict = {}\n",
    "        self.last_word_count = {}\n",
    "        \n",
    "    def fit(self, text):\n",
    "        text = text.lower()\n",
    "        text = replace_all_with(text, ['.', '!', '?'], '# ')\n",
    "        text = replace_all_with(text, ['\\xa0', ':', ';', '/', '|', '\"', '&', '«', '»', '\\n', '\\t', '(', ')', '[', ']'], ' ')\n",
    "        text = replace_all_with(text, [' #'], '#')\n",
    "        text = replace_all_with(text, [','], ' ,')\n",
    "        while text.find('  ') != -1:\n",
    "            text = text.replace('  ', ' ')\n",
    "        self.words = text.split(' ')\n",
    "        self.words.remove('')\n",
    "        for i, word in enumerate(self.words):\n",
    "            self.dictionary[word.replace('#', '')] = []\n",
    "            self.words_count[word.replace('#', '')] = 0\n",
    "            if self.last_word_count.get(word.replace('#', '')) is None:\n",
    "                self.last_word_count[word.replace('#', '')] = 1\n",
    "            if word.__contains__('#'):\n",
    "                self.last_word_count[word.replace('#', '')] += 1\n",
    "            self.words[i] = self.words[i].replace('#', '')\n",
    "            if i > 1:\n",
    "                self.tri_dict[self.words[i - 2] + ' ' + self.words[i - 1]] = []\n",
    "        for x, word in enumerate(self.words):\n",
    "            self.words_count[word] += 1\n",
    "            if x + 1 < len(self.words):\n",
    "                self.dictionary[word].append(self.words[x + 1])\n",
    "            if x > 1:\n",
    "                self.tri_dict[self.words[x - 2] + ' ' + self.words[x - 1]].append(word)\n",
    "        self.words = set(self.words)\n",
    "        self.words = list(self.words)\n",
    "        for word in self.words:\n",
    "            self.last_word_count[word] -= 1\n",
    "        self.words.remove('')\n",
    "                \n",
    "    def next_bi(self, word):\n",
    "        next_word = ''\n",
    "        i = 0\n",
    "        while True:\n",
    "            length = len(self.dictionary[word])\n",
    "            if length > 0:\n",
    "                next_word = self.dictionary[word][random.randrange(length)]\n",
    "            else:\n",
    "                next_word = self.words[random.randrange(len(self.words))]\n",
    "            if (len(next_word) >= 4 or len(word) >= 4) and next_word != word:\n",
    "                return next_word\n",
    "            i += 1\n",
    "            if i > 1000:\n",
    "                if next_word is None:\n",
    "                    return random.choice(self.words)\n",
    "                else:\n",
    "                    return next_word\n",
    "    \n",
    "    def next_tri(self, word):\n",
    "        if self.tri_dict.get(word) is None:\n",
    "            return None\n",
    "        else:\n",
    "            next_word = random.choice(self.tri_dict[word])\n",
    "            if next_word == word.split(' ')[1]:\n",
    "                return None\n",
    "            else:\n",
    "                return next_word\n",
    "                \n",
    "    def generate(self, count):\n",
    "        res = ''\n",
    "        for i in range(count):\n",
    "            next_word = random.choice(self.words)\n",
    "            pred = [next_word]\n",
    "            j = 1\n",
    "            while True:\n",
    "                if j > 2:\n",
    "                    if self.next_tri(pred[j - 2] + ' ' + pred[j - 1]) is None:\n",
    "                        next_word = self.next_bi(next_word)\n",
    "                    else:\n",
    "                        next_word = self.next_tri(pred[j - 2] + ' ' + pred[j - 1])\n",
    "                else:\n",
    "                    next_word = self.next_bi(next_word)\n",
    "                pred.append(next_word)\n",
    "                x = random.random()\n",
    "                p = self.last_word_count[next_word] / self.words_count[next_word]\n",
    "                if x < p ** 0.7:\n",
    "                    break\n",
    "                j += 1\n",
    "                if j > 25:\n",
    "                    break\n",
    "            predlojenie = ''\n",
    "            for word in pred:\n",
    "                predlojenie = predlojenie + word + ' '\n",
    "            predlojenie = predlojenie.capitalize()\n",
    "            res = res + predlojenie[0:-1] + '. '\n",
    "        return res"
   ]
  },
  {
   "cell_type": "code",
   "execution_count": 14,
   "metadata": {},
   "outputs": [],
   "source": [
    "s = ''\n",
    "with io.open('Шекспир Уильям. Ромео и Джульетта.txt', encoding='windows-1251') as file:\n",
    "    for line in file:\n",
    "        s += line"
   ]
  },
  {
   "cell_type": "code",
   "execution_count": 15,
   "metadata": {},
   "outputs": [],
   "source": [
    "a = TextGenerator()\n",
    "a.fit(s)"
   ]
  },
  {
   "cell_type": "code",
   "execution_count": 16,
   "metadata": {
    "collapsed": true
   },
   "outputs": [
    {
     "data": {
      "text/plain": [
       "'Задумчиво улыбаясь. Гостиные , который и так же в плен , платон не мог отказаться и обещался быть – князь андрей болконский. Подвинуть крошечку орудия , из той двери. Конюшень , чтобы матери не было. Объясняется при слове париж. Сослан в мире… это нехорошо… князь андрей тоже боялся пошевелиться , чтобы цель живших людей. Противуприказаниями , знаете. Камином это сделать так много дела , что она. Шуточный смысл только теперь. Пронзительно-тонкий голос в передней суетились лакеи с винами и яствами. Съёжилась и свендсена , балет прокофьева этого музыкальнейшего творения шекспира а смирнов . Феба мчитесь. Ошибка мюрата , и третий – о жене… мне и разрыдался так , как мальчик , радовался тому , что платон не мог быть пагубным для. Замедлить этот „je vous aime 12 теперь , когда им. Благородную , которые рассказывал по вечерам читает. '"
      ]
     },
     "execution_count": 16,
     "metadata": {},
     "output_type": "execute_result"
    }
   ],
   "source": [
    "a.generate(15)"
   ]
  }
 ],
 "metadata": {
  "kernelspec": {
   "display_name": "Python 2",
   "language": "python",
   "name": "python2"
  },
  "language_info": {
   "codemirror_mode": {
    "name": "ipython",
    "version": 2
   },
   "file_extension": ".py",
   "mimetype": "text/x-python",
   "name": "python",
   "nbconvert_exporter": "python",
   "pygments_lexer": "ipython2",
   "version": "2.7.6"
  }
 },
 "nbformat": 4,
 "nbformat_minor": 0
}
